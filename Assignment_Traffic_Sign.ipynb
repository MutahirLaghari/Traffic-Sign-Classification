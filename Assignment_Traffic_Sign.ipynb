{
  "nbformat": 4,
  "nbformat_minor": 0,
  "metadata": {
    "colab": {
      "name": "Assignment_Traffic_Sign.ipynb",
      "provenance": [],
      "collapsed_sections": []
    },
    "kernelspec": {
      "name": "python3",
      "display_name": "Python 3"
    },
    "language_info": {
      "name": "python"
    }
  },
  "cells": [
    {
      "cell_type": "markdown",
      "source": [
        "### Mount Drive to get Dataset"
      ],
      "metadata": {
        "id": "9j3RM7cnMt-b"
      }
    },
    {
      "cell_type": "code",
      "source": [
        "from google.colab import drive\n",
        "drive.mount('/content/drive')"
      ],
      "metadata": {
        "colab": {
          "base_uri": "https://localhost:8080/"
        },
        "id": "IwBwFWcxI1h4",
        "outputId": "c0aeb16d-55f1-42fa-bdce-49a30f98d108"
      },
      "execution_count": 25,
      "outputs": [
        {
          "output_type": "stream",
          "name": "stdout",
          "text": [
            "Drive already mounted at /content/drive; to attempt to forcibly remount, call drive.mount(\"/content/drive\", force_remount=True).\n"
          ]
        }
      ]
    },
    {
      "cell_type": "markdown",
      "source": [
        "### Import All needed libraries"
      ],
      "metadata": {
        "id": "Q2uHBoOVNDiX"
      }
    },
    {
      "cell_type": "code",
      "source": [
        "import os\n",
        "import cv2\n",
        "import numpy as np\n",
        "from skimage.feature import hog \n",
        "from sklearn.tree import DecisionTreeClassifier\n",
        "from sklearn.metrics import confusion_matrix, accuracy_score\n",
        "import seaborn as sns\n",
        "import matplotlib.pyplot as plt"
      ],
      "metadata": {
        "id": "ZlkMcHw4MEXv"
      },
      "execution_count": 17,
      "outputs": []
    },
    {
      "cell_type": "markdown",
      "source": [
        "### Define functions\n"
      ],
      "metadata": {
        "id": "LceUnlMWMsdw"
      }
    },
    {
      "cell_type": "code",
      "source": [
        "def get_train_data(path):\n",
        "  file = open(path, \"r\")\n",
        "  train_list = []\n",
        "  for line in file:\n",
        "    train_list.append(line.replace('\\n',''))\n",
        "  return train_list"
      ],
      "metadata": {
        "id": "9cRVZdCjOkPh"
      },
      "execution_count": 18,
      "outputs": []
    },
    {
      "cell_type": "code",
      "source": [
        "def get_training_and_testing_data(path, dim):\n",
        "  labels_list = []\n",
        "  train_data = [] \n",
        "  train_label = [] \n",
        "  test_data = []\n",
        "  test_label = [] \n",
        "  for folder in os.listdir(path):\n",
        "    label_folder = f\"{path}{folder}/\"\n",
        "    labels_list.append(int(folder))\n",
        "    # get train data file names from train text file\n",
        "    train_list = get_train_data(label_folder+\"train.txt\") \n",
        "    for file in os.listdir(label_folder):\n",
        "      name = label_folder + file\n",
        "      if '.txt' not in file:\n",
        "        train_img = cv2.imread(name)\n",
        "        if train_img is not None:   \n",
        "          img = cv2.resize(train_img, dim, interpolation = cv2.INTER_AREA)  \n",
        "          # apply HOG for feature Extraction\n",
        "          features, _ = hog(img, orientations=8, pixels_per_cell=(16, 16), \n",
        "                            cells_per_block=(4, 4), visualize=True, \n",
        "                            multichannel=True)        \n",
        "          # check if the image is of training data or test data\n",
        "          if file in train_list:          \n",
        "            train_data.append(features)\n",
        "            train_label.append(int(folder)) \n",
        "          else:\n",
        "            test_data.append(features)\n",
        "            test_label.append(int(folder)) \n",
        "  return train_data, train_label, test_data, test_label, sorted(labels_list)"
      ],
      "metadata": {
        "id": "xV6t4rS8NWda"
      },
      "execution_count": 26,
      "outputs": []
    },
    {
      "cell_type": "markdown",
      "source": [
        "# Implementation"
      ],
      "metadata": {
        "id": "HZaTPsbgNZbC"
      }
    },
    {
      "cell_type": "markdown",
      "source": [
        "**Get Training and Testing data and labels**"
      ],
      "metadata": {
        "id": "B-7VIbGQbfJJ"
      }
    },
    {
      "cell_type": "code",
      "source": [
        "path = \"/content/drive/MyDrive/CS893_Sp2022_A1_Dataset/\"\n",
        "dim = (64, 64)\n",
        "\n",
        "train_data, train_labels, test_data, test_labels, labels = get_training_and_testing_data(path, dim) \n",
        "print(labels)       "
      ],
      "metadata": {
        "id": "kuB4oR10VSRk",
        "colab": {
          "base_uri": "https://localhost:8080/"
        },
        "outputId": "3f489d5b-6a9a-4639-f730-ab006d0b7d31"
      },
      "execution_count": 27,
      "outputs": [
        {
          "output_type": "stream",
          "name": "stdout",
          "text": [
            "[1, 2, 3, 4, 5, 6, 7, 8, 9, 10]\n"
          ]
        }
      ]
    },
    {
      "cell_type": "markdown",
      "source": [
        "**Apply Classifier (Decision Tree)**"
      ],
      "metadata": {
        "id": "ar3A3W05ReMR"
      }
    },
    {
      "cell_type": "code",
      "source": [
        "classifier = DecisionTreeClassifier(criterion='gini', splitter='best', max_depth=None)               \n",
        "classifier.fit(train_data, train_labels)   "
      ],
      "metadata": {
        "id": "45juwoPzRbUX",
        "colab": {
          "base_uri": "https://localhost:8080/"
        },
        "outputId": "b0f203a1-267a-4fc3-bfd0-17e974813ebf"
      },
      "execution_count": 28,
      "outputs": [
        {
          "output_type": "execute_result",
          "data": {
            "text/plain": [
              "DecisionTreeClassifier()"
            ]
          },
          "metadata": {},
          "execution_count": 28
        }
      ]
    },
    {
      "cell_type": "markdown",
      "source": [
        "**Get prediction of test data and make confusion matrix and heat-map**"
      ],
      "metadata": {
        "id": "j0TTQCdUQdga"
      }
    },
    {
      "cell_type": "code",
      "source": [
        "pred = classifier.predict(test_data)   \n",
        "cnf_matrix = confusion_matrix(test_labels, pred)\n",
        "print(cnf_matrix)\n",
        "plt.figure(figsize=(8,8))\n",
        "sns.heatmap(cnf_matrix, annot=True, fmt='g')\n",
        "plt.xticks(np.arange(cnf_matrix.shape[0]), labels, rotation=90)\n",
        "plt.yticks(np.arange(cnf_matrix.shape[0]), labels, rotation=0)\n",
        "plt.xlabel(\"Predicted\")\n",
        "plt.ylabel(\"True\")\n",
        "plt.show()"
      ],
      "metadata": {
        "colab": {
          "base_uri": "https://localhost:8080/",
          "height": 678
        },
        "id": "9XAr2u1hQmtx",
        "outputId": "56df6db1-d8d5-4d31-9214-2424e2080a32"
      },
      "execution_count": 29,
      "outputs": [
        {
          "output_type": "stream",
          "name": "stdout",
          "text": [
            "[[18  0  0  0  0  2  0  0  0  0]\n",
            " [ 0 18  0  0  0  0  2  0  0  0]\n",
            " [ 0  0 18  0  0  0  1  0  1  0]\n",
            " [ 0  0  0 20  0  0  0  0  0  0]\n",
            " [ 0  0  0  0 20  0  0  0  0  0]\n",
            " [ 0  0  0  0  0 20  0  0  0  0]\n",
            " [ 0  1  0  0  0  0 19  0  0  0]\n",
            " [ 0  0  0  0  0  0  1 18  1  0]\n",
            " [ 0  4  0  0  0  0  0  3 13  0]\n",
            " [ 0  0  0  0  0  0  1  0  0 19]]\n"
          ]
        },
        {
          "output_type": "display_data",
          "data": {
            "image/png": "[encoded data removed]",
            "text/plain": [
              "<Figure size 576x576 with 2 Axes>"
            ]
          },
          "metadata": {
            "needs_background": "light"
          }
        }
      ]
    },
    {
      "cell_type": "markdown",
      "source": [
        "\n",
        "*   **Calculate Accuracy**"
      ],
      "metadata": {
        "id": "LTiWQfQ6cPH1"
      }
    },
    {
      "cell_type": "code",
      "source": [
        "accuracy = accuracy_score(test_labels, pred)\n",
        "print(\"Accuracy = \", accuracy)"
      ],
      "metadata": {
        "colab": {
          "base_uri": "https://localhost:8080/"
        },
        "id": "4jGSt3QXQsyu",
        "outputId": "1eee372a-107f-4e5b-d828-87966e0a1a21"
      },
      "execution_count": 30,
      "outputs": [
        {
          "output_type": "stream",
          "name": "stdout",
          "text": [
            "Accuracy =  0.915\n"
          ]
        }
      ]
    },
    {
      "cell_type": "markdown",
      "source": [
        "*   Calculating Following Values\n",
        "  * False Positive Rate\n",
        "  * False Negative Rate\n",
        "  * True Positive Rate\n",
        "  * True Negative Rate\n",
        "  * False Discovery rate\n",
        "  * Positive predictive value\n",
        "  * Negative predicted value\n",
        "  * Overall Accuracy\n",
        "  * Precision\n",
        "  * Recall\n",
        "  * F1"
      ],
      "metadata": {
        "id": "5S-aczrrQ1NV"
      }
    },
    {
      "cell_type": "code",
      "source": [
        "false_positives = cnf_matrix.sum(axis=0) - np.diag(cnf_matrix)  \n",
        "false_negatives = cnf_matrix.sum(axis=1) - np.diag(cnf_matrix)\n",
        "true_positives = np.diag(cnf_matrix)\n",
        "true_negatives = cnf_matrix.sum() - (false_positives + false_negatives + true_positives)\n",
        "  \n",
        "true_positive_rates = true_positives/(true_positives+false_negatives)\n",
        "true_negative_rates = true_negatives/(true_negatives+false_positives) \n",
        "false_positive_rates = false_positives/(false_positives+true_negatives)\n",
        "false_negative_rates = false_negatives/(true_positives+false_negatives)\n",
        "positive_predicted_value = true_positives/(true_positives+false_positives)\n",
        "negative_predicted_value = true_negatives/(true_negatives+false_negatives)\n",
        "false_discovery_rate = false_positives/(true_positives+false_positives)\n",
        "\n",
        "overall_accuracy = (true_positives+true_negatives)/(true_positives+false_positives+false_negatives+true_negatives)\n",
        "\n",
        "   \n",
        "precision = float(true_positives[1]) / (true_positives[1] + false_positives[1])\n",
        "recall = float(true_positives[1]) / (true_positives[1] + false_negatives[1])\n",
        "\n",
        "f1 = 2*precision*recall / (precision + recall)\n",
        "\n",
        "print(\"--------------------------\")\n",
        "print(\"True positive rate for each class: \", true_positive_rates, \"\\n\")\n",
        "print(\"True negative rate for each class: \", true_negative_rates, \"\\n\")\n",
        "print(\"False positive rate for each class: \", false_positive_rates, \"\\n\")\n",
        "print(\"False negative rate for each class: \", false_negative_rates)\n",
        "print(\"---------------------------\")\n",
        "print(\"False Discovery rate for each class: \",false_discovery_rate, \"\\n\")\n",
        "print(\"Positive predictive values: \", positive_predicted_value, \"\\n\")\n",
        "print(\"Negative predicted values: \", negative_predicted_value)\n",
        "print(\"---------------------------\")\n",
        "print(\"Overall Accuracy: \", overall_accuracy)\n",
        "print(\"Precision: \" , precision)\n",
        "print(\"Recall: \" , recall)\n",
        "print(\"F1 Score: \" , f1)"
      ],
      "metadata": {
        "id": "q1ROeRxW0sNs",
        "colab": {
          "base_uri": "https://localhost:8080/"
        },
        "outputId": "1d11a699-baf3-4582-c2eb-b075122b320a"
      },
      "execution_count": 31,
      "outputs": [
        {
          "output_type": "stream",
          "name": "stdout",
          "text": [
            "--------------------------\n",
            "True positive rate for each class:  [0.9  0.9  0.9  1.   1.   1.   0.95 0.9  0.65 0.95] \n",
            "\n",
            "True negative rate for each class:  [1.         0.97222222 1.         1.         1.         0.98888889\n",
            " 0.97222222 0.98333333 0.98888889 1.        ] \n",
            "\n",
            "False positive rate for each class:  [0.         0.02777778 0.         0.         0.         0.01111111\n",
            " 0.02777778 0.01666667 0.01111111 0.        ] \n",
            "\n",
            "False negative rate for each class:  [0.1  0.1  0.1  0.   0.   0.   0.05 0.1  0.35 0.05]\n",
            "---------------------------\n",
            "False Discovery rate for each class:  [0.         0.2173913  0.         0.         0.         0.09090909\n",
            " 0.20833333 0.14285714 0.13333333 0.        ] \n",
            "\n",
            "Positive predictive values:  [1.         0.7826087  1.         1.         1.         0.90909091\n",
            " 0.79166667 0.85714286 0.86666667 1.        ] \n",
            "\n",
            "Negative predicted values:  [0.98901099 0.98870056 0.98901099 1.         1.         1.\n",
            " 0.99431818 0.98882682 0.96216216 0.99447514]\n",
            "---------------------------\n",
            "Overall Accuracy:  [0.99  0.965 0.99  1.    1.    0.99  0.97  0.975 0.955 0.995]\n",
            "Precision:  0.782608695652174\n",
            "Recall:  0.9\n",
            "F1 Score:  0.8372093023255814\n"
          ]
        }
      ]
    }
  ]
}